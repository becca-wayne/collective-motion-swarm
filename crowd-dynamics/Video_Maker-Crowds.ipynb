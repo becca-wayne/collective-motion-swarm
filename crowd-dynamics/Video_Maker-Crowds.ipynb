{
 "cells": [
  {
   "cell_type": "code",
   "execution_count": 1,
   "metadata": {
    "collapsed": false
   },
   "outputs": [
    {
     "name": "stdout",
     "output_type": "stream",
     "text": [
      "['ffmpeg', 'ffmpeg_file']\n"
     ]
    }
   ],
   "source": [
    "import numpy as np\n",
    "import matplotlib\n",
    "import matplotlib.pyplot as plt\n",
    "import matplotlib.animation as manimation\n",
    "import pandas as pd\n",
    "\n",
    "print(manimation.writers.list())"
   ]
  },
  {
   "cell_type": "code",
   "execution_count": 13,
   "metadata": {
    "collapsed": false
   },
   "outputs": [],
   "source": [
    "FFMpegWriter = manimation.writers['ffmpeg']\n",
    "metadata = dict(title='Movie Test', artist='Matplotlib',\n",
    "                comment='Movie support!')\n",
    "writer = FFMpegWriter(fps=15, metadata=metadata)"
   ]
  },
  {
   "cell_type": "code",
   "execution_count": 14,
   "metadata": {
    "collapsed": false
   },
   "outputs": [
    {
     "name": "stdout",
     "output_type": "stream",
     "text": [
      "100 35 1001.0 10.0 1,1 5,17.5\n"
     ]
    }
   ],
   "source": [
    "f = open('New_Crowd_Sim\\positions.csv', 'r')\n",
    "num_agents = int(f.readline().strip())\n",
    "board_size = int(f.readline().strip())\n",
    "temp = float(f.readline().strip())\n",
    "target1 = str(f.readline().strip())\n",
    "target2 = str(f.readline().strip())\n",
    "f.close()\n",
    "\n",
    "df = pd.read_csv('New_Crowd_Sim\\positions.csv', header = None, skiprows=6)\n",
    "iterations = df.shape[0]/num_agents\n",
    "df.head()\n",
    "reader = pd.read_csv('New_Crowd_Sim\\positions.csv', header = None, chunksize=num_agents, skiprows=6)\n",
    "print(num_agents, board_size, iterations, temp, target1, target2)"
   ]
  },
  {
   "cell_type": "code",
   "execution_count": 15,
   "metadata": {
    "collapsed": false
   },
   "outputs": [
    {
     "data": {
      "text/plain": [
       "(0, 35)"
      ]
     },
     "execution_count": 15,
     "metadata": {},
     "output_type": "execute_result"
    }
   ],
   "source": [
    "x0, y0= np.zeros((num_agents, 1)), np.zeros((num_agents, 1))\n",
    "var = .3*1000/board_size\n",
    "fig = plt.figure(figsize = (10,10))\n",
    "l, = plt.plot([], [], '.', markersize = var, scalex = .5, scaley = .5)\n",
    "    \n",
    "#plt.quiver(chunk[0].values, chunk[1].values, chunk[2].values, chunk[3].values)\n",
    "\n",
    "plt.xlim(0, board_size)\n",
    "plt.ylim(0, board_size)"
   ]
  },
  {
   "cell_type": "code",
   "execution_count": 16,
   "metadata": {
    "collapsed": false
   },
   "outputs": [],
   "source": [
    "name1 = 'Crowd_%d_%d_%d_%3f.mp4' %(num_agents, board_size, iterations, temp)\n",
    "with writer.saving(fig, name1, 100):\n",
    "    for chunk in reader:\n",
    "        #plt.quiver(chunk[0].values, chunk[1].values, chunk[2].values, chunk[3].values)\n",
    "        #if chunk.values == \"-1.#J\":\n",
    "           # chunk.values = 0\n",
    "            \n",
    "        x0 = chunk[0].values\n",
    "        y0 = chunk[1].values\n",
    "        l.set_data(x0, y0)\n",
    "        writer.grab_frame()"
   ]
  },
  {
   "cell_type": "code",
   "execution_count": null,
   "metadata": {
    "collapsed": true
   },
   "outputs": [],
   "source": []
  },
  {
   "cell_type": "code",
   "execution_count": null,
   "metadata": {
    "collapsed": true
   },
   "outputs": [],
   "source": []
  },
  {
   "cell_type": "code",
   "execution_count": null,
   "metadata": {
    "collapsed": false
   },
   "outputs": [],
   "source": [
    "plt.figure\n",
    "%matplotlib inline\n",
    "x = [i for i in range(iterations)]\n",
    "print(len(df[4].unique()))\n",
    "y = [df[4].iloc[i * num_agents] for i in range(iterations)]\n",
    "plt.plot(x, y,'.-', markersize=.75)\n",
    "plt.xlabel('Timesteps')\n",
    "plt.ylabel('Order Parameter')\n",
    "plt.ylim(0, 1) \n",
    "name1 = 'pic-%d-%d-%d-%.3f.jpg' %(num_agents, board_size, iterations, eta)\n",
    "plt.savefig(name1)\n",
    "plt.clf()"
   ]
  },
  {
   "cell_type": "code",
   "execution_count": null,
   "metadata": {
    "collapsed": true
   },
   "outputs": [],
   "source": []
  }
 ],
 "metadata": {
  "kernelspec": {
   "display_name": "Python 3",
   "language": "python",
   "name": "python3"
  },
  "language_info": {
   "codemirror_mode": {
    "name": "ipython",
    "version": 3
   },
   "file_extension": ".py",
   "mimetype": "text/x-python",
   "name": "python",
   "nbconvert_exporter": "python",
   "pygments_lexer": "ipython3",
   "version": "3.6.0"
  }
 },
 "nbformat": 4,
 "nbformat_minor": 2
}
