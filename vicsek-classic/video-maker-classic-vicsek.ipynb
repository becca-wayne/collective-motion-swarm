{
 "cells": [
  {
   "cell_type": "code",
   "execution_count": 3,
   "metadata": {
    "collapsed": true
   },
   "outputs": [],
   "source": [
    "import numpy as np\n",
    "import matplotlib\n",
    "matplotlib.use(\"Agg\")\n",
    "import matplotlib.pyplot as plt\n",
    "import matplotlib.animation as manimation\n",
    "import pandas as pd\n",
    "\n",
    "import scipy as sp\n",
    "import sklearn as sk\n",
    "import math"
   ]
  },
  {
   "cell_type": "code",
   "execution_count": 43,
   "metadata": {},
   "outputs": [
    {
     "name": "stdout",
     "output_type": "stream",
     "text": [
      "Number of agents: 10000\n",
      "Boardsize: 100\n",
      "Iterations: 1000\n",
      "Eta (noise): 0.25\n"
     ]
    }
   ],
   "source": [
    "#Opens CSV output file from the classic Vicsek simulation. Saves and prints relevant parameter information\n",
    "#Note that output from the simulation should be redirected to file named 'output.csv'\n",
    "\n",
    "f = open('output.csv', 'r')\n",
    "num_agents = int(f.readline().strip())\n",
    "board_size = int(f.readline().strip())\n",
    "iterations = int(f.readline().strip())\n",
    "eta = float(f.readline().strip())\n",
    "f.close()\n",
    "print(\"Number of agents: \" + str(num_agents))\n",
    "print(\"Boardsize: \" + str(board_size))\n",
    "print(\"Iterations: \" + str(iterations))\n",
    "print(\"Eta (noise): \"  + str(eta))"
   ]
  },
  {
   "cell_type": "code",
   "execution_count": 44,
   "metadata": {},
   "outputs": [
    {
     "data": {
      "text/html": [
       "<div>\n",
       "<style>\n",
       "    .dataframe thead tr:only-child th {\n",
       "        text-align: right;\n",
       "    }\n",
       "\n",
       "    .dataframe thead th {\n",
       "        text-align: left;\n",
       "    }\n",
       "\n",
       "    .dataframe tbody tr th {\n",
       "        vertical-align: top;\n",
       "    }\n",
       "</style>\n",
       "<table border=\"1\" class=\"dataframe\">\n",
       "  <thead>\n",
       "    <tr style=\"text-align: right;\">\n",
       "      <th></th>\n",
       "      <th>0</th>\n",
       "      <th>1</th>\n",
       "      <th>2</th>\n",
       "      <th>3</th>\n",
       "      <th>4</th>\n",
       "    </tr>\n",
       "  </thead>\n",
       "  <tbody>\n",
       "    <tr>\n",
       "      <th>0</th>\n",
       "      <td>63.660155</td>\n",
       "      <td>36.222518</td>\n",
       "      <td>-0.537491</td>\n",
       "      <td>-0.843269</td>\n",
       "      <td>0.005763</td>\n",
       "    </tr>\n",
       "    <tr>\n",
       "      <th>1</th>\n",
       "      <td>86.451769</td>\n",
       "      <td>94.879378</td>\n",
       "      <td>-0.993994</td>\n",
       "      <td>0.109438</td>\n",
       "      <td>0.005763</td>\n",
       "    </tr>\n",
       "    <tr>\n",
       "      <th>2</th>\n",
       "      <td>6.454648</td>\n",
       "      <td>83.271854</td>\n",
       "      <td>0.496314</td>\n",
       "      <td>-0.868143</td>\n",
       "      <td>0.005763</td>\n",
       "    </tr>\n",
       "    <tr>\n",
       "      <th>3</th>\n",
       "      <td>28.033103</td>\n",
       "      <td>52.365509</td>\n",
       "      <td>-0.856798</td>\n",
       "      <td>0.515652</td>\n",
       "      <td>0.005763</td>\n",
       "    </tr>\n",
       "    <tr>\n",
       "      <th>4</th>\n",
       "      <td>14.509856</td>\n",
       "      <td>67.151511</td>\n",
       "      <td>0.124890</td>\n",
       "      <td>-0.992171</td>\n",
       "      <td>0.005763</td>\n",
       "    </tr>\n",
       "  </tbody>\n",
       "</table>\n",
       "</div>"
      ],
      "text/plain": [
       "           0          1         2         3         4\n",
       "0  63.660155  36.222518 -0.537491 -0.843269  0.005763\n",
       "1  86.451769  94.879378 -0.993994  0.109438  0.005763\n",
       "2   6.454648  83.271854  0.496314 -0.868143  0.005763\n",
       "3  28.033103  52.365509 -0.856798  0.515652  0.005763\n",
       "4  14.509856  67.151511  0.124890 -0.992171  0.005763"
      ]
     },
     "execution_count": 44,
     "metadata": {},
     "output_type": "execute_result"
    }
   ],
   "source": [
    "#Stores CSV output in an iterable panda dataframe\n",
    "\n",
    "df = pd.read_csv('output.csv', header = None, skiprows=4)\n",
    "reader = pd.read_csv('output.csv', header = None, chunksize=num_agents, skiprows=4)\n",
    "df.head()"
   ]
  },
  {
   "cell_type": "code",
   "execution_count": 45,
   "metadata": {},
   "outputs": [
    {
     "data": {
      "image/png": "[encoded data removed]",
      "text/plain": [
       "<matplotlib.figure.Figure at 0x1129d0ed0>"
      ]
     },
     "metadata": {},
     "output_type": "display_data"
    }
   ],
   "source": [
    "#Create a plot of global order over time\n",
    "\n",
    "name = \"%d_%d_%d_%f.png\" % (num_agents, board_size, iterations, eta)\n",
    "%matplotlib inline\n",
    "x = [i for i in range(iterations)]\n",
    "y = [df[4].iloc[i * num_agents] for i in range(iterations)]\n",
    "plt.scatter(x, y)\n",
    "plt.xlabel('Timesteps')\n",
    "plt.ylabel('Order Parameter')\n",
    "plt.ylim(0, 1) \n",
    "plt.show()"
   ]
  },
  {
   "cell_type": "code",
   "execution_count": 39,
   "metadata": {},
   "outputs": [
    {
     "data": {
      "image/png": "[encoded data removed]",
      "text/plain": [
       "<matplotlib.figure.Figure at 0x1121e9fd0>"
      ]
     },
     "metadata": {},
     "output_type": "display_data"
    }
   ],
   "source": [
    "#Set up moviewriter\n",
    "FFMpegWriter = manimation.writers['ffmpeg']\n",
    "metadata = dict(title='Movie Test', artist='Matplotlib',\n",
    "                comment='Movie support!')\n",
    "writer = FFMpegWriter(fps=15, metadata=metadata)\n",
    "\n",
    "\n",
    "fig = plt.figure(figsize=(10,10), frameon=False)\n",
    "\n",
    "ax = fig.add_axes([0, 0, 1, 1])\n",
    "ax.axis('off')\n",
    "\n",
    "#markersize varies the size of the dots in the simulation\n",
    "l, = plt.plot([], [], 'k.', markersize=5)\n",
    "\n",
    "plt.xlim(0, board_size)\n",
    "plt.ylim(0, board_size)\n",
    "\n",
    "x0, y0 = np.zeros((num_agents, 1)), np.zeros((num_agents, 1))"
   ]
  },
  {
   "cell_type": "code",
   "execution_count": 40,
   "metadata": {
    "collapsed": true
   },
   "outputs": [],
   "source": [
    "#Create video of classic Vicsek model and save it to current directory\n",
    "name = \"%d_%d_%d_%f.mp4\" % (num_agents, board_size, iterations, eta)\n",
    "with writer.saving(fig, name, 200):\n",
    "    for chunk in reader:\n",
    "        #plt.quiver(chunk[0].values, chunk[1].values, chunk[2].values, chunk[3].values)\n",
    "        x0 = chunk[0].values\n",
    "        y0 = chunk[1].values\n",
    "        l.set_data(x0, y0)\n",
    "        writer.grab_frame()"
   ]
  },
  {
   "cell_type": "code",
   "execution_count": null,
   "metadata": {
    "collapsed": true
   },
   "outputs": [],
   "source": [
    "#Script for creating a video with vectors denoting particle direction - slow and inefficient\n",
    "import os, sys\n",
    "i = 0\n",
    "for chunk in reader:\n",
    "    plt.figure(figsize=(12,8))\n",
    "    plt.ylim(0,board_size)\n",
    "    plt.xlim(0,board_size)\n",
    "    plt.axis('off')\n",
    "    plt.quiver(chunk[0].values, chunk[1].values, chunk[2].values, chunk[3].values)\n",
    "    fname = '_tmp%05d.png'%i\n",
    "    plt.savefig(fname)\n",
    "    plt.clf()\n",
    "    i += 1\n",
    "\n",
    "os.system(\"ffmpeg -framerate 10 -i _tmp%05d.png movie.mp4\")\n",
    "os.system(\"rm _tmp*.png\")"
   ]
  }
 ],
 "metadata": {
  "kernelspec": {
   "display_name": "Python 2",
   "language": "python",
   "name": "python2"
  },
  "language_info": {
   "codemirror_mode": {
    "name": "ipython",
    "version": 2
   },
   "file_extension": ".py",
   "mimetype": "text/x-python",
   "name": "python",
   "nbconvert_exporter": "python",
   "pygments_lexer": "ipython2",
   "version": "2.7.13"
  }
 },
 "nbformat": 4,
 "nbformat_minor": 2
}
